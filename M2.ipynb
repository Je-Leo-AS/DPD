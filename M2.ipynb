{
 "cells": [
  {
   "cell_type": "markdown",
   "id": "37610fde",
   "metadata": {},
   "source": []
  },
  {
   "cell_type": "code",
   "execution_count": null,
   "id": "faf8b917",
   "metadata": {},
   "outputs": [],
   "source": [
    "from scipy.io import loadmat\n",
    "\n",
    "mat = loadmat('in_out_SBRT2_direto.mat')\n",
    "\n",
    "in_data_ext = mat['in_extraction'].flatten()\n",
    "out_data_ext = mat['out_extraction'].flatten()\n",
    "in_data_val = mat['in_validation'].flatten()\n",
    "out_data_val = mat['out_validation'].flatten()\n"
   ]
  }
 ],
 "metadata": {
  "language_info": {
   "name": "python"
  }
 },
 "nbformat": 4,
 "nbformat_minor": 5
}
